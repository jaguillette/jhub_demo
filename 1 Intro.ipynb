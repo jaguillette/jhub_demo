{
 "cells": [
  {
   "cell_type": "markdown",
   "metadata": {},
   "source": [
    " # Jupyter Notebooks\n",
    " \n",
    "This here is a code notebook. It's broken into discrete units called \"cells\". These cells can serve different purposes. This cell is called a ***Markdown cell***, because it doesn't contain code, it has text that uses something called markdown syntax. You can think of markdown as a kind of \"HTML lite\", since it uses special characters to change text formatting, but doesn't have the complexity of regular HTML. For example, to make something a title, you type `# Title` on a line in a markdown cell, instead of the HTML equivalent, `<h1>Title</h1>`\n",
    "\n",
    "If you double click on this text, you'll enter edit mode and see the actual text behind the formatted text that you're seeing."
   ]
  },
  {
   "cell_type": "markdown",
   "metadata": {},
   "source": [
    "## Code cells\n",
    "\n",
    "The other kind of cell that you'll find in a notebook is a code cell. This kind of cell contains Python code that will execute and produce content. Each code cell that runs changes the environment of the notebook, so that if you create a variable in one cell, you can change it in another. That is, the cells aren't independent of one another, they all interact within the same broader notebook environment.\n",
    "\n",
    "You can run a code cell in a few different ways: \n",
    "* You can click on the <i class=\"fa-step-forward fa\"></i> button in the bar above the notebook, which runs a cell and selects the cell below, so you can just keep clicking it to run through an entire notebook.\n",
    "* You can use a keyboard shortcut:\n",
    "    * `Ctrl + Enter` runs code in a cell and keeps the same cell active, so you can keep re-running the same code by hitting `Ctrl + Enter` many times.\n",
    "    * `Shift + Enter` does the same thing as the <i class=\"fa-step-forward fa\"></i> button, in that it runs code and selects the next cell\n",
    "    * `Alt/Option + Enter` runs the code in the cell, and then inserts a new empty cell below it.\n",
    "* You can also go through the menu above the notebook, under `Cell`. This contains all of the options for running cells that are described under the keyboard shortcuts.\n",
    "\n",
    "### Try it!\n",
    "\n",
    "The next cell is a code cell that contains a traditional first programming task: output the phrase \"Hello world!\". Run the cell to see what happens."
   ]
  },
  {
   "cell_type": "code",
   "execution_count": null,
   "metadata": {},
   "outputs": [],
   "source": [
    "print(\"Hello world!\")"
   ]
  },
  {
   "cell_type": "markdown",
   "metadata": {},
   "source": [
    "## Run order\n",
    "\n",
    "You'll notice that after you run a cell, you'll see `In [1]:`, or something similar with another number. That indicates the order in which cells have run. You don't have to run cells in a notebook in order, so you can run a cell from the bottom, then one from the top, then one from the middle. If you're using a notebook to experiment with a new tool or data set, you might find yourself jumping around the notebook, and these numbers help you keep track of what's happened when."
   ]
  },
  {
   "cell_type": "code",
   "execution_count": null,
   "metadata": {},
   "outputs": [],
   "source": [
    "6 * 7"
   ]
  },
  {
   "cell_type": "markdown",
   "metadata": {},
   "source": [
    "## Two modes\n",
    "\n",
    "When you're editing a notebook, you'll be in one of two different modes, and your keyboard will do different things based on what mode you're in.\n",
    "\n",
    "### Edit mode\n",
    "\n",
    "Edit mode is what it says on the tin, a mode for editing. When you type in this mode, text will appear in the cell that you are editing. Edit mode is indicated by a green border around the active cell. If you are in edit mode, you can enter command mode by hitting the escape key.\n",
    "\n",
    "### Command mode\n",
    "\n",
    "This mode is a bit less intuitive, but very useful if you work in the notebook environment a lot. You can tell that you're in command mode because you'll see a blue border around the active cell. In command mode, different keys on your keyboard will let you execute different commands in the notebook, like adding or deleting cells or changing the type of the cell you're editing from code to markdown. In command mode, you can hit the `H` key to bring up a help menu of keyboard shortcuts.\n",
    "\n",
    "The shortcuts in command mode let you work more efficiently, and once you get used to them, they let you focus on the content of the notebook instead of a series of menus. For example, if I want to add a new cell below this one and make it a markdown cell, I can hit `Esc`, `B`, `M`, then `Enter` and start typing. That's instead of going to the menu and clicking `Insert > Insert Cell Below`, then `Cell > Cell type > Markdown`, then double clicking in the cell."
   ]
  },
  {
   "cell_type": "markdown",
   "metadata": {},
   "source": [
    "## Try some math!\n",
    "\n",
    "Programming languages let you do math, and you don't need to know any Python to be able to type `2+2`, so having Python do some math for you is a good way to practice with the process of making and editing new cells. Give it a try!"
   ]
  },
  {
   "cell_type": "code",
   "execution_count": null,
   "metadata": {},
   "outputs": [],
   "source": [
    "2 + 2"
   ]
  }
 ],
 "metadata": {
  "kernelspec": {
   "display_name": "Python 3",
   "language": "python",
   "name": "python3"
  },
  "language_info": {
   "codemirror_mode": {
    "name": "ipython",
    "version": 3
   },
   "file_extension": ".py",
   "mimetype": "text/x-python",
   "name": "python",
   "nbconvert_exporter": "python",
   "pygments_lexer": "ipython3",
   "version": "3.6.1"
  }
 },
 "nbformat": 4,
 "nbformat_minor": 4
}
