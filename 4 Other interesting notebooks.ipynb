{
 "cells": [
  {
   "cell_type": "markdown",
   "metadata": {},
   "source": [
    "# Other interesting notebooks\n",
    "\n",
    "The Jupyter project maintains [a list of notable notebooks](https://github.com/jupyter/jupyter/wiki/A-gallery-of-interesting-Jupyter-Notebooks#data-driven-journalism). If you want a place to start in that list, check these out:\n",
    "\n",
    "## [St. Louis County Segregation Analysis](https://github.com/BuzzFeedNews/2014-08-st-louis-county-segregation)\n",
    "\n",
    "This notebook contains analysis for the article [The Ferguson Area Is Even More Segregated Than You Probably Guessed](http://www.buzzfeed.com/jsvine/the-ferguson-area-is-even-more-segregated-than-you-thought) by [Jeremy Singer-Vine](https://twitter.com/jsvine). \n",
    "In this notebook, you can see how the graphics in the article were generated. If you download the code in the GitHub repository, you'll find that you need to also navigate the Census bureau website to get the data it's based on, but even without running the code, you can see the methodology from the viewer pretty clearly.\n",
    "\n",
    "## [An introduction to Bayesian inference](http://nbviewer.jupyter.org/github/CamDavidsonPilon/Probabilistic-Programming-and-Bayesian-Methods-for-Hackers/blob/master/Chapter1_Introduction/Ch1_Introduction_PyMC3.ipynb)\n",
    "\n",
    "This is the first chapter in an ongoing book titled [Probabilistic Programming and Bayesian Methods for Hackers Using Python and PyMC](http://camdavidsonpilon.github.io/Probabilistic-Programming-and-Bayesian-Methods-for-Hackers), by [Cameron Davidson-Pilon](http://camdp.com/). This notebook has some extensive markdown sections interspersed with big chunks of statistical code and charts. It's a really useful way to present complex information, since students can experiment with the code in line, and see for themselves how everything fits together.\n",
    "\n",
    "## [Mining the Social Web (3rd Edition)](https://github.com/mikhailklassen/Mining-the-Social-Web-3rd-Edition)\n",
    "\n",
    "This is a complete collection of notebooks accompanying [Matthew Russell and Mikhail Klassen's book by O'Reilly](http://shop.oreilly.com/product/0636920056751.do). Each notebook is essentially a quickstart for getting data out of a social media platform with Python, filled with explanatory text and code examples. Check out [the notebook on Twitter](https://github.com/mikhailklassen/Mining-the-Social-Web-3rd-Edition/blob/master/notebooks/Chapter%201%20-%20Mining%20Twitter.ipynb), for example. The documentation details several ways to work with the notebooks, including a cloud-based service for working with Jupyter Notebooks. Those implementation details are important, since they're what would let us know what resources the notebook needs to run, so if you plan to use our Jupyter service through Canvas, make sure you know what Python libraries your work will require, so that we can make sure they're available."
   ]
  }
 ],
 "metadata": {
  "kernelspec": {
   "display_name": "Python 3",
   "language": "python",
   "name": "python3"
  },
  "language_info": {
   "codemirror_mode": {
    "name": "ipython",
    "version": 3
   },
   "file_extension": ".py",
   "mimetype": "text/x-python",
   "name": "python",
   "nbconvert_exporter": "python",
   "pygments_lexer": "ipython3",
   "version": "3.6.1"
  }
 },
 "nbformat": 4,
 "nbformat_minor": 2
}
