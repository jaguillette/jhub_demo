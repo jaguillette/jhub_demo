{
 "cells": [
  {
   "cell_type": "markdown",
   "metadata": {},
   "source": [
    "# Working with APIs in Python\n",
    "\n",
    "You may have heard of an \"API\", and you may even have a notion that APIs might be a tool for getting access to interesting information, but they're difficult to use without any coding. With a Jupyter notebook, you still need to write code, but you don't need to write one perfect script to do exactly what you want the first time around. You can experiment and look at what each line of code does.\n",
    "\n",
    "As an example, the Harvard Art Museums provide access to a ton of information about their collections, available through a pretty simple API.\n",
    "\n",
    "Here's some [API documentation](https://github.com/harvardartmuseums/api-docs/blob/master/sections/object.md) and a [sample API query](https://api.harvardartmuseums.org/object?q=totalpageviews:0&size=10&apikey=6dd7b080-3635-11ea-851d-67c3f7f3cf76).\n",
    "\n",
    "The API documentation kind of looks like documentation for an advanced search feature if you squint a little, but I bet the sample query doesn't look very nice to you. It is, however, very easy to work with in a programming language like Python. A Jupyter notebook is a great place to explore an API, since you can execute individual cells of code, look at the results, and then code some more. It's much more interactive and exploratory than just writing a script, but there's more scaffolding than you'd find just executing code in your terminal.\n",
    "\n",
    "In this notebook, I've set up a little toy script using the Harvard Art Museums API that allows you to search the collections by color. It turns out you have to specify the color in hexadecimal notation (something like \"#fae1e1\"), and you can't just put in an arbitrary color; only certain colors will turn up anything. I've put together a list of colors that will work and a function for searching. All you have to do is copy a color from the list and put it between the quotes in the function below, and you'll get a sampling of ten works of art that feature that color."
   ]
  },
  {
   "cell_type": "code",
   "execution_count": null,
   "metadata": {
    "collapsed": true
   },
   "outputs": [],
   "source": [
    "import requests\n",
    "import random\n",
    "import csv\n",
    "from IPython.core.display import display, HTML\n",
    "\n",
    "APIKEY = \"6dd7b080-3635-11ea-851d-67c3f7f3cf76\"\n",
    "\n",
    "colors = []\n",
    "with open(\"colors.csv\", \"r\") as fp:\n",
    "    reader = csv.reader(fp)\n",
    "    for row in reader:\n",
    "        colors.append(row[0])\n",
    "\n",
    "\n",
    "def color_search(color):\n",
    "    color = str(color)\n",
    "    if color[0] != \"#\":\n",
    "        color = \"#\" + color\n",
    "    Q = {\n",
    "        \"apikey\": APIKEY,\n",
    "        \"color\": color,\n",
    "        \"size\": 10,\n",
    "        \"sort\": f\"random:{random.randint(0,9999999)}\"\n",
    "    }\n",
    "    R = requests.get(\"https://api.harvardartmuseums.org/object\", params=Q)\n",
    "    info  = R.json()['info']\n",
    "    records = R.json()['records']\n",
    "    \n",
    "    for entry in records:\n",
    "        if \"colors\" in entry:\n",
    "            for c in entry['colors']:\n",
    "                if c['color'] not in colors:\n",
    "                    colors.append(c['color'])\n",
    "                    print(f\"new color found: {c['color']}\")\n",
    "    \n",
    "    output = f\"<p>Search returned {info['totalrecords']} results. Showing first {info['totalrecordsperquery']}.</p><table>\"\n",
    "    for r in records:\n",
    "        row = f'<tr><td><a href=\"{r[\"url\"]}\" target=\"_blank\">{r[\"title\"]}</td><td style=\"width:300px;\">'\n",
    "        for color in r['colors']:\n",
    "            row += f'<div style=\"background-color:{color[\"color\"]}; width:{color[\"percent\"] * 100}%; float:left;\">&nbsp;</div>'\n",
    "        row += \"</td>\"\n",
    "        try:\n",
    "            imgUrl = r[\"images\"][0][\"iiifbaseuri\"].replace(\"iiif\",\"view\")\n",
    "            row += f'<td><a href=\"{imgUrl}\" target=\"_blank\"><img style=\"height:100px;\" src=\"{imgUrl}\"></img></a></td>'\n",
    "        except IndexError:\n",
    "            row += \"<td></td>\"\n",
    "        row += \"</tr>\"\n",
    "        output += row\n",
    "    output += \"</table>\"\n",
    "    display(HTML(output))\n",
    "    return 0"
   ]
  },
  {
   "cell_type": "code",
   "execution_count": null,
   "metadata": {},
   "outputs": [],
   "source": [
    "random.shuffle(colors)\n",
    "htmlOutput = '<table style=\"-webkit-text-stroke: 1.5px #000000; color:#ffffff; font-size:26px; font-family:Impact;\"><tr>'\n",
    "counter = 0\n",
    "num_columns = 6\n",
    "for c in colors:\n",
    "    htmlOutput += f'<td style=\"background-color:{c}; padding:25px;\">{c}</td>'\n",
    "    if counter >= num_columns - 1:\n",
    "        htmlOutput += \"</tr><tr>\"\n",
    "        counter = 0\n",
    "    else:\n",
    "        counter += 1\n",
    "htmlOutput += \"</tr></table>\"\n",
    "display(HTML(htmlOutput))"
   ]
  },
  {
   "cell_type": "code",
   "execution_count": null,
   "metadata": {},
   "outputs": [],
   "source": [
    "color_search(\"323264\")"
   ]
  }
 ],
 "metadata": {
  "kernelspec": {
   "display_name": "Python 3",
   "language": "python",
   "name": "python3"
  },
  "language_info": {
   "codemirror_mode": {
    "name": "ipython",
    "version": 3
   },
   "file_extension": ".py",
   "mimetype": "text/x-python",
   "name": "python",
   "nbconvert_exporter": "python",
   "pygments_lexer": "ipython3",
   "version": "3.6.1"
  }
 },
 "nbformat": 4,
 "nbformat_minor": 4
}
